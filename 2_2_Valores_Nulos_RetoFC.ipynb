{
  "nbformat": 4,
  "nbformat_minor": 0,
  "metadata": {
    "colab": {
      "provenance": [],
      "include_colab_link": true
    },
    "kernelspec": {
      "name": "python3",
      "display_name": "Python 3"
    },
    "language_info": {
      "name": "python"
    }
  },
  "cells": [
    {
      "cell_type": "markdown",
      "metadata": {
        "id": "view-in-github",
        "colab_type": "text"
      },
      "source": [
        "<a href=\"https://colab.research.google.com/github/renatachavezm22/Valores_nulos_ACT/blob/main/2_2_Valores_Nulos_RetoFC.ipynb\" target=\"_parent\"><img src=\"https://colab.research.google.com/assets/colab-badge.svg\" alt=\"Open In Colab\"/></a>"
      ]
    },
    {
      "cell_type": "markdown",
      "source": [
        "#**Actividad 2.2 Valores Nulos**"
      ],
      "metadata": {
        "id": "mE8KPPuaHxwj"
      }
    },
    {
      "cell_type": "code",
      "execution_count": null,
      "metadata": {
        "id": "wuBFjxb1zmY_"
      },
      "outputs": [],
      "source": [
        "import pandas as pd\n",
        "import numpy as np\n",
        "import matplotlib.pyplot as plt\n",
        "import seaborn as sns\n",
        "from google.colab import files "
      ]
    },
    {
      "cell_type": "markdown",
      "source": [
        "##Datos de Facturación"
      ],
      "metadata": {
        "id": "vVNVed0tRPyz"
      }
    },
    {
      "cell_type": "code",
      "source": [
        "#files.upload()"
      ],
      "metadata": {
        "id": "KT0p9OMK0Cd7"
      },
      "execution_count": null,
      "outputs": []
    },
    {
      "cell_type": "code",
      "source": [
        "Facturacion= pd.read_excel(\"Datos de Facturación.xlsx\")\n",
        "Facturacion.info()"
      ],
      "metadata": {
        "colab": {
          "base_uri": "https://localhost:8080/"
        },
        "id": "8VGJiWCZ0K85",
        "outputId": "9612de65-a0d8-41ba-c175-90eccc55c3ae"
      },
      "execution_count": null,
      "outputs": [
        {
          "output_type": "stream",
          "name": "stdout",
          "text": [
            "<class 'pandas.core.frame.DataFrame'>\n",
            "RangeIndex: 10895 entries, 0 to 10894\n",
            "Data columns (total 12 columns):\n",
            " #   Column         Non-Null Count  Dtype         \n",
            "---  ------         --------------  -----         \n",
            " 0   CVE_DOC        10895 non-null  object        \n",
            " 1   CVE_CLPV       10895 non-null  object        \n",
            " 2   STATUS         10895 non-null  object        \n",
            " 3   CVE_VEND       10847 non-null  float64       \n",
            " 4   FECHAELAB      10895 non-null  datetime64[ns]\n",
            " 5   FECHA_DOC      10895 non-null  datetime64[ns]\n",
            " 6   FECHA_ENT      10893 non-null  object        \n",
            " 7   FECHA_VEN      10895 non-null  datetime64[ns]\n",
            " 8   FECHA_CANCELA  358 non-null    datetime64[ns]\n",
            " 9   CAN_TOT        10895 non-null  float64       \n",
            " 10  DES_TOT        10895 non-null  float64       \n",
            " 11  DES_FIN        10895 non-null  int64         \n",
            "dtypes: datetime64[ns](4), float64(3), int64(1), object(4)\n",
            "memory usage: 1021.5+ KB\n"
          ]
        }
      ]
    },
    {
      "cell_type": "code",
      "source": [
        "valores_nulos = Facturacion.isnull().sum()\n",
        "valores_nulos"
      ],
      "metadata": {
        "colab": {
          "base_uri": "https://localhost:8080/"
        },
        "id": "nT_06hHbQa7y",
        "outputId": "97fb84bf-69e9-4e06-b6c9-e526db29608c"
      },
      "execution_count": null,
      "outputs": [
        {
          "output_type": "execute_result",
          "data": {
            "text/plain": [
              "CVE_DOC              0\n",
              "CVE_CLPV             0\n",
              "STATUS               0\n",
              "CVE_VEND            48\n",
              "FECHAELAB            0\n",
              "FECHA_DOC            0\n",
              "FECHA_ENT            2\n",
              "FECHA_VEN            0\n",
              "FECHA_CANCELA    10537\n",
              "CAN_TOT              0\n",
              "DES_TOT              0\n",
              "DES_FIN              0\n",
              "dtype: int64"
            ]
          },
          "metadata": {},
          "execution_count": 36
        }
      ]
    },
    {
      "cell_type": "markdown",
      "source": [
        "###CVE_VEND"
      ],
      "metadata": {
        "id": "NpjEUTyQRLPp"
      }
    },
    {
      "cell_type": "code",
      "source": [
        "Facturacion['CVE_VEND'].unique()"
      ],
      "metadata": {
        "colab": {
          "base_uri": "https://localhost:8080/"
        },
        "id": "VVT-seKgQ43P",
        "outputId": "787c6269-a802-48d6-eb60-fbee403fcb05"
      },
      "execution_count": null,
      "outputs": [
        {
          "output_type": "execute_result",
          "data": {
            "text/plain": [
              "array([ 1.,  2.,  3.,  5.,  4., nan,  6.,  9., 10.,  7., 11., 12.])"
            ]
          },
          "metadata": {},
          "execution_count": 37
        }
      ]
    },
    {
      "cell_type": "code",
      "source": [
        "Facturacion['CVE_VEND']=Facturacion['CVE_VEND'].fillna(8)"
      ],
      "metadata": {
        "id": "cHQqztDzRHgU"
      },
      "execution_count": null,
      "outputs": []
    },
    {
      "cell_type": "code",
      "source": [
        "valores_nulos = Facturacion.isnull().sum()\n",
        "valores_nulos"
      ],
      "metadata": {
        "colab": {
          "base_uri": "https://localhost:8080/"
        },
        "id": "jIu2HxBURptx",
        "outputId": "695b3ba3-23ce-4a2f-d661-16301a694982"
      },
      "execution_count": null,
      "outputs": [
        {
          "output_type": "execute_result",
          "data": {
            "text/plain": [
              "CVE_DOC              0\n",
              "CVE_CLPV             0\n",
              "STATUS               0\n",
              "CVE_VEND             0\n",
              "FECHAELAB            0\n",
              "FECHA_DOC            0\n",
              "FECHA_ENT            2\n",
              "FECHA_VEN            0\n",
              "FECHA_CANCELA    10537\n",
              "CAN_TOT              0\n",
              "DES_TOT              0\n",
              "DES_FIN              0\n",
              "dtype: int64"
            ]
          },
          "metadata": {},
          "execution_count": 39
        }
      ]
    },
    {
      "cell_type": "markdown",
      "source": [
        "###FECHA_ENT"
      ],
      "metadata": {
        "id": "V2wxFh72Ryww"
      }
    },
    {
      "cell_type": "code",
      "source": [
        "indices = Facturacion[Facturacion[\"FECHA_ENT\"].isnull()==True].index\n",
        "valores = Facturacion.loc[indices, [\"FECHA_DOC\"]].values\n",
        "Facturacion.loc[indices, [\"FECHA_ENT\"]] = valores"
      ],
      "metadata": {
        "id": "_4XUItsQR0bw"
      },
      "execution_count": null,
      "outputs": []
    },
    {
      "cell_type": "code",
      "source": [
        "valores_nulos = Facturacion.isnull().sum()\n",
        "valores_nulos"
      ],
      "metadata": {
        "colab": {
          "base_uri": "https://localhost:8080/"
        },
        "outputId": "fa31e7a2-bcb5-4dfc-f949-9c34b0da2a64",
        "id": "XfAB5OQeTcOh"
      },
      "execution_count": null,
      "outputs": [
        {
          "output_type": "execute_result",
          "data": {
            "text/plain": [
              "CVE_DOC              0\n",
              "CVE_CLPV             0\n",
              "STATUS               0\n",
              "CVE_VEND             0\n",
              "FECHAELAB            0\n",
              "FECHA_DOC            0\n",
              "FECHA_ENT            0\n",
              "FECHA_VEN            0\n",
              "FECHA_CANCELA    10537\n",
              "CAN_TOT              0\n",
              "DES_TOT              0\n",
              "DES_FIN              0\n",
              "dtype: int64"
            ]
          },
          "metadata": {},
          "execution_count": 48
        }
      ]
    },
    {
      "cell_type": "markdown",
      "source": [
        "###FECHA_CANCELA"
      ],
      "metadata": {
        "id": "1-9GocDFTo_g"
      }
    },
    {
      "cell_type": "code",
      "source": [
        "Facturacion[\"FECHA_CANCELA\"]=Facturacion[\"FECHA_CANCELA\"].fillna(\"2050-01-01 00:00:00\")"
      ],
      "metadata": {
        "id": "WOGOMQSrToKK"
      },
      "execution_count": null,
      "outputs": []
    },
    {
      "cell_type": "code",
      "source": [
        "valores_nulos = Facturacion.isnull().sum()\n",
        "valores_nulos"
      ],
      "metadata": {
        "colab": {
          "base_uri": "https://localhost:8080/"
        },
        "outputId": "d60aeddf-1661-48bb-a402-f46ab61f63e4",
        "id": "RLhYwgHnT7Wz"
      },
      "execution_count": null,
      "outputs": [
        {
          "output_type": "execute_result",
          "data": {
            "text/plain": [
              "CVE_DOC          0\n",
              "CVE_CLPV         0\n",
              "STATUS           0\n",
              "CVE_VEND         0\n",
              "FECHAELAB        0\n",
              "FECHA_DOC        0\n",
              "FECHA_ENT        0\n",
              "FECHA_VEN        0\n",
              "FECHA_CANCELA    0\n",
              "CAN_TOT          0\n",
              "DES_TOT          0\n",
              "DES_FIN          0\n",
              "dtype: int64"
            ]
          },
          "metadata": {},
          "execution_count": 50
        }
      ]
    },
    {
      "cell_type": "markdown",
      "source": [
        "###Convertir en CSV"
      ],
      "metadata": {
        "id": "cu3dIU2Jdkh6"
      }
    },
    {
      "cell_type": "code",
      "source": [
        "Facturacion.to_csv(\"Datos de Facturación_SIN NULOS.csv\")"
      ],
      "metadata": {
        "id": "ahFsKNU5UDA4"
      },
      "execution_count": null,
      "outputs": []
    },
    {
      "cell_type": "code",
      "source": [
        "from google.colab import files  \n",
        "files.download(\"Datos de Facturación_SIN NULOS.csv\")   "
      ],
      "metadata": {
        "id": "pulSkz2XUErH",
        "colab": {
          "base_uri": "https://localhost:8080/",
          "height": 17
        },
        "outputId": "0fd3cb1a-151d-4bcd-8387-dd052f1f901d"
      },
      "execution_count": null,
      "outputs": [
        {
          "output_type": "display_data",
          "data": {
            "text/plain": [
              "<IPython.core.display.Javascript object>"
            ],
            "application/javascript": [
              "\n",
              "    async function download(id, filename, size) {\n",
              "      if (!google.colab.kernel.accessAllowed) {\n",
              "        return;\n",
              "      }\n",
              "      const div = document.createElement('div');\n",
              "      const label = document.createElement('label');\n",
              "      label.textContent = `Downloading \"${filename}\": `;\n",
              "      div.appendChild(label);\n",
              "      const progress = document.createElement('progress');\n",
              "      progress.max = size;\n",
              "      div.appendChild(progress);\n",
              "      document.body.appendChild(div);\n",
              "\n",
              "      const buffers = [];\n",
              "      let downloaded = 0;\n",
              "\n",
              "      const channel = await google.colab.kernel.comms.open(id);\n",
              "      // Send a message to notify the kernel that we're ready.\n",
              "      channel.send({})\n",
              "\n",
              "      for await (const message of channel.messages) {\n",
              "        // Send a message to notify the kernel that we're ready.\n",
              "        channel.send({})\n",
              "        if (message.buffers) {\n",
              "          for (const buffer of message.buffers) {\n",
              "            buffers.push(buffer);\n",
              "            downloaded += buffer.byteLength;\n",
              "            progress.value = downloaded;\n",
              "          }\n",
              "        }\n",
              "      }\n",
              "      const blob = new Blob(buffers, {type: 'application/binary'});\n",
              "      const a = document.createElement('a');\n",
              "      a.href = window.URL.createObjectURL(blob);\n",
              "      a.download = filename;\n",
              "      div.appendChild(a);\n",
              "      a.click();\n",
              "      div.remove();\n",
              "    }\n",
              "  "
            ]
          },
          "metadata": {}
        },
        {
          "output_type": "display_data",
          "data": {
            "text/plain": [
              "<IPython.core.display.Javascript object>"
            ],
            "application/javascript": [
              "download(\"download_84ed9ba1-9372-4ab9-90ef-c228749d3e89\", \"Datos de Facturacio\\u0301n_SIN NULOS.csv\", 1353312)"
            ]
          },
          "metadata": {}
        }
      ]
    }
  ]
}