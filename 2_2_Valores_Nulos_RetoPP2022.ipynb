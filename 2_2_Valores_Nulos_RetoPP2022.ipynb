{
  "nbformat": 4,
  "nbformat_minor": 0,
  "metadata": {
    "colab": {
      "provenance": [],
      "include_colab_link": true
    },
    "kernelspec": {
      "name": "python3",
      "display_name": "Python 3"
    },
    "language_info": {
      "name": "python"
    }
  },
  "cells": [
    {
      "cell_type": "markdown",
      "metadata": {
        "id": "view-in-github",
        "colab_type": "text"
      },
      "source": [
        "<a href=\"https://colab.research.google.com/github/renatachavezm22/Valores_nulos_ACT/blob/main/2_2_Valores_Nulos_RetoPP2022.ipynb\" target=\"_parent\"><img src=\"https://colab.research.google.com/assets/colab-badge.svg\" alt=\"Open In Colab\"/></a>"
      ]
    },
    {
      "cell_type": "markdown",
      "source": [
        "# **Actividad 2.1 (Valores Nulos)**\n",
        "\n",
        "Amairany Rodríguez Huerta| A01702927\n",
        "\n",
        "Luis Pablo Padilla Barbosa | A00572040\n",
        "\n",
        "Renata Emilia Chávez Martínez| A01351716"
      ],
      "metadata": {
        "id": "sLL_3_iqR1EC"
      }
    },
    {
      "cell_type": "code",
      "execution_count": null,
      "metadata": {
        "id": "_tgkeYg5Rq3e"
      },
      "outputs": [],
      "source": [
        "import pandas as pd\n",
        "import numpy as np\n",
        "import matplotlib.pyplot as plt"
      ]
    },
    {
      "cell_type": "code",
      "source": [
        "df=pd.read_excel(\"Detalle precios y productos fabricados 2022.xlsx\")\n",
        "df"
      ],
      "metadata": {
        "colab": {
          "base_uri": "https://localhost:8080/",
          "height": 823
        },
        "id": "qTIAbZaOXVVc",
        "outputId": "56b14787-c6ad-4598-bef9-35cd931d71f3"
      },
      "execution_count": null,
      "outputs": [
        {
          "output_type": "execute_result",
          "data": {
            "text/plain": [
              "     CVE_DOC  FECHA_DOC            NOMBRE_VENDEDOR  \\\n",
              "0     F37034 2022-01-05  LETICIA RAMIREZ HERNANDEZ   \n",
              "1     F37036 2022-01-05  LETICIA RAMIREZ HERNANDEZ   \n",
              "2     F37041 2022-01-05   DIEGO ARMANDO LEON DURAN   \n",
              "3     F37042 2022-01-05   DIEGO ARMANDO LEON DURAN   \n",
              "4     F37043 2022-01-05  LETICIA RAMIREZ HERNANDEZ   \n",
              "...      ...        ...                        ...   \n",
              "1421  F39834 2022-12-23  LETICIA RAMIREZ HERNANDEZ   \n",
              "1422  F39834 2022-12-23  LETICIA RAMIREZ HERNANDEZ   \n",
              "1423  F39835 2022-12-23  LETICIA RAMIREZ HERNANDEZ   \n",
              "1424  F39837 2022-12-23  LETICIA RAMIREZ HERNANDEZ   \n",
              "1425  F39838 2022-12-23         AARON NUÑO CORDOVA   \n",
              "\n",
              "                    NOMBRE_CLIENTE  CANT       CVE_ART  \\\n",
              "0               PÚBLICO EN GENERAL     1      TUE00244   \n",
              "1     JUAN ANTONIO RESENDIZ UGALDE     1      TUA00028   \n",
              "2        ANA BARBARA CRUZ PALACIOS     7        TP0007   \n",
              "3             OMAR RODRIGUEZ GOMEZ     1        TP0001   \n",
              "4               PÚBLICO EN GENERAL     2       BP00242   \n",
              "...                            ...   ...           ...   \n",
              "1421     LUIS ENRIQUE PATIÑO PEREZ     6  CS12F1040A00   \n",
              "1422     LUIS ENRIQUE PATIÑO PEREZ     6  CS12H1050A00   \n",
              "1423          SEVEN DAYS ALL SPORT     3      TUE00394   \n",
              "1424           REVUELTA MONTECARLO     1      TUA00470   \n",
              "1425                CPEG SOLUTIONS    10       RB00007   \n",
              "\n",
              "                                         DESCR  PRECIO_UNITARIO  \\\n",
              "0      TUB COBRE 5/16\"ØX165MM CIRCULA1.5KW127V           434.48   \n",
              "1      TUA U\" 5/16 ØX250MM 1200W 120V TAP1\"NPT          1264.05   \n",
              "2         TERMOPAR J 3/16 Ø X 1' 1/2 EXT. 7 MT           551.61   \n",
              "3         TERMOPAR J 3/16 Ø X 1' 1/2 EXT. 1 MT           140.00   \n",
              "4      BAN P INOX 115MMX235MM 1000W 127V T/TOR           172.41   \n",
              "...                                        ...              ...   \n",
              "1421      CAS INOX 1/2\"ØX3\" 400W 127V EXT.30CM           712.00   \n",
              "1422       CAS INOX 1/2\"ØX4\" 500W 127V EXT30CM           718.60   \n",
              "1423  TUB INOX 5/16\"ØX300MM 5300W 220V \"M\" ESP          2182.35   \n",
              "1424  TUB INOX 1/2\"ØX500MM 10KW 220V 2 1/2\"NPT          5909.84   \n",
              "1425   FAB  BOBINA DSD1 6 COLOCAR B/NUEVA 488V          1406.00   \n",
              "\n",
              "      COSTO_UNITARIO  COSTO_UNITARIO_CALCULADO  SUBTOTAL_PARTIDA  \\\n",
              "0              52.80                     52.80            434.48   \n",
              "1             327.18                    327.18           1264.05   \n",
              "2             177.68                    177.68           3861.29   \n",
              "3              38.96                     38.96            140.00   \n",
              "4             101.71                    101.71            344.83   \n",
              "...              ...                       ...               ...   \n",
              "1421          102.31                    102.31           4272.00   \n",
              "1422          104.69                    104.69           4311.60   \n",
              "1423            0.00                    596.55           6547.05   \n",
              "1424         1884.35                   1884.35           5909.84   \n",
              "1425            0.00                     80.66          14060.00   \n",
              "\n",
              "      COSTO_TOTAL_CALCULADO  MARGEN_UNITARIO_CALCULADO  MARGEN_TOTAL_CALCULADO  \n",
              "0                     52.80                     381.68                  381.68  \n",
              "1                    327.18                     936.87                  936.87  \n",
              "2                   1243.73                     373.94                 2617.56  \n",
              "3                     38.96                     101.04                  101.04  \n",
              "4                    203.42                      70.71                  141.41  \n",
              "...                     ...                        ...                     ...  \n",
              "1421                 613.88                     609.69                 3658.12  \n",
              "1422                 628.12                     613.91                 3683.48  \n",
              "1423                1789.64                    1585.80                 4757.41  \n",
              "1424                1884.35                    4025.49                 4025.49  \n",
              "1425                 806.55                    1325.34                13253.45  \n",
              "\n",
              "[1426 rows x 14 columns]"
            ],
            "text/html": [
              "\n",
              "  <div id=\"df-bcbe645a-bc5d-46af-8fb5-9fe52ba3538a\">\n",
              "    <div class=\"colab-df-container\">\n",
              "      <div>\n",
              "<style scoped>\n",
              "    .dataframe tbody tr th:only-of-type {\n",
              "        vertical-align: middle;\n",
              "    }\n",
              "\n",
              "    .dataframe tbody tr th {\n",
              "        vertical-align: top;\n",
              "    }\n",
              "\n",
              "    .dataframe thead th {\n",
              "        text-align: right;\n",
              "    }\n",
              "</style>\n",
              "<table border=\"1\" class=\"dataframe\">\n",
              "  <thead>\n",
              "    <tr style=\"text-align: right;\">\n",
              "      <th></th>\n",
              "      <th>CVE_DOC</th>\n",
              "      <th>FECHA_DOC</th>\n",
              "      <th>NOMBRE_VENDEDOR</th>\n",
              "      <th>NOMBRE_CLIENTE</th>\n",
              "      <th>CANT</th>\n",
              "      <th>CVE_ART</th>\n",
              "      <th>DESCR</th>\n",
              "      <th>PRECIO_UNITARIO</th>\n",
              "      <th>COSTO_UNITARIO</th>\n",
              "      <th>COSTO_UNITARIO_CALCULADO</th>\n",
              "      <th>SUBTOTAL_PARTIDA</th>\n",
              "      <th>COSTO_TOTAL_CALCULADO</th>\n",
              "      <th>MARGEN_UNITARIO_CALCULADO</th>\n",
              "      <th>MARGEN_TOTAL_CALCULADO</th>\n",
              "    </tr>\n",
              "  </thead>\n",
              "  <tbody>\n",
              "    <tr>\n",
              "      <th>0</th>\n",
              "      <td>F37034</td>\n",
              "      <td>2022-01-05</td>\n",
              "      <td>LETICIA RAMIREZ HERNANDEZ</td>\n",
              "      <td>PÚBLICO EN GENERAL</td>\n",
              "      <td>1</td>\n",
              "      <td>TUE00244</td>\n",
              "      <td>TUB COBRE 5/16\"ØX165MM CIRCULA1.5KW127V</td>\n",
              "      <td>434.48</td>\n",
              "      <td>52.80</td>\n",
              "      <td>52.80</td>\n",
              "      <td>434.48</td>\n",
              "      <td>52.80</td>\n",
              "      <td>381.68</td>\n",
              "      <td>381.68</td>\n",
              "    </tr>\n",
              "    <tr>\n",
              "      <th>1</th>\n",
              "      <td>F37036</td>\n",
              "      <td>2022-01-05</td>\n",
              "      <td>LETICIA RAMIREZ HERNANDEZ</td>\n",
              "      <td>JUAN ANTONIO RESENDIZ UGALDE</td>\n",
              "      <td>1</td>\n",
              "      <td>TUA00028</td>\n",
              "      <td>TUA U\" 5/16 ØX250MM 1200W 120V TAP1\"NPT</td>\n",
              "      <td>1264.05</td>\n",
              "      <td>327.18</td>\n",
              "      <td>327.18</td>\n",
              "      <td>1264.05</td>\n",
              "      <td>327.18</td>\n",
              "      <td>936.87</td>\n",
              "      <td>936.87</td>\n",
              "    </tr>\n",
              "    <tr>\n",
              "      <th>2</th>\n",
              "      <td>F37041</td>\n",
              "      <td>2022-01-05</td>\n",
              "      <td>DIEGO ARMANDO LEON DURAN</td>\n",
              "      <td>ANA BARBARA CRUZ PALACIOS</td>\n",
              "      <td>7</td>\n",
              "      <td>TP0007</td>\n",
              "      <td>TERMOPAR J 3/16 Ø X 1' 1/2 EXT. 7 MT</td>\n",
              "      <td>551.61</td>\n",
              "      <td>177.68</td>\n",
              "      <td>177.68</td>\n",
              "      <td>3861.29</td>\n",
              "      <td>1243.73</td>\n",
              "      <td>373.94</td>\n",
              "      <td>2617.56</td>\n",
              "    </tr>\n",
              "    <tr>\n",
              "      <th>3</th>\n",
              "      <td>F37042</td>\n",
              "      <td>2022-01-05</td>\n",
              "      <td>DIEGO ARMANDO LEON DURAN</td>\n",
              "      <td>OMAR RODRIGUEZ GOMEZ</td>\n",
              "      <td>1</td>\n",
              "      <td>TP0001</td>\n",
              "      <td>TERMOPAR J 3/16 Ø X 1' 1/2 EXT. 1 MT</td>\n",
              "      <td>140.00</td>\n",
              "      <td>38.96</td>\n",
              "      <td>38.96</td>\n",
              "      <td>140.00</td>\n",
              "      <td>38.96</td>\n",
              "      <td>101.04</td>\n",
              "      <td>101.04</td>\n",
              "    </tr>\n",
              "    <tr>\n",
              "      <th>4</th>\n",
              "      <td>F37043</td>\n",
              "      <td>2022-01-05</td>\n",
              "      <td>LETICIA RAMIREZ HERNANDEZ</td>\n",
              "      <td>PÚBLICO EN GENERAL</td>\n",
              "      <td>2</td>\n",
              "      <td>BP00242</td>\n",
              "      <td>BAN P INOX 115MMX235MM 1000W 127V T/TOR</td>\n",
              "      <td>172.41</td>\n",
              "      <td>101.71</td>\n",
              "      <td>101.71</td>\n",
              "      <td>344.83</td>\n",
              "      <td>203.42</td>\n",
              "      <td>70.71</td>\n",
              "      <td>141.41</td>\n",
              "    </tr>\n",
              "    <tr>\n",
              "      <th>...</th>\n",
              "      <td>...</td>\n",
              "      <td>...</td>\n",
              "      <td>...</td>\n",
              "      <td>...</td>\n",
              "      <td>...</td>\n",
              "      <td>...</td>\n",
              "      <td>...</td>\n",
              "      <td>...</td>\n",
              "      <td>...</td>\n",
              "      <td>...</td>\n",
              "      <td>...</td>\n",
              "      <td>...</td>\n",
              "      <td>...</td>\n",
              "      <td>...</td>\n",
              "    </tr>\n",
              "    <tr>\n",
              "      <th>1421</th>\n",
              "      <td>F39834</td>\n",
              "      <td>2022-12-23</td>\n",
              "      <td>LETICIA RAMIREZ HERNANDEZ</td>\n",
              "      <td>LUIS ENRIQUE PATIÑO PEREZ</td>\n",
              "      <td>6</td>\n",
              "      <td>CS12F1040A00</td>\n",
              "      <td>CAS INOX 1/2\"ØX3\" 400W 127V EXT.30CM</td>\n",
              "      <td>712.00</td>\n",
              "      <td>102.31</td>\n",
              "      <td>102.31</td>\n",
              "      <td>4272.00</td>\n",
              "      <td>613.88</td>\n",
              "      <td>609.69</td>\n",
              "      <td>3658.12</td>\n",
              "    </tr>\n",
              "    <tr>\n",
              "      <th>1422</th>\n",
              "      <td>F39834</td>\n",
              "      <td>2022-12-23</td>\n",
              "      <td>LETICIA RAMIREZ HERNANDEZ</td>\n",
              "      <td>LUIS ENRIQUE PATIÑO PEREZ</td>\n",
              "      <td>6</td>\n",
              "      <td>CS12H1050A00</td>\n",
              "      <td>CAS INOX 1/2\"ØX4\" 500W 127V EXT30CM</td>\n",
              "      <td>718.60</td>\n",
              "      <td>104.69</td>\n",
              "      <td>104.69</td>\n",
              "      <td>4311.60</td>\n",
              "      <td>628.12</td>\n",
              "      <td>613.91</td>\n",
              "      <td>3683.48</td>\n",
              "    </tr>\n",
              "    <tr>\n",
              "      <th>1423</th>\n",
              "      <td>F39835</td>\n",
              "      <td>2022-12-23</td>\n",
              "      <td>LETICIA RAMIREZ HERNANDEZ</td>\n",
              "      <td>SEVEN DAYS ALL SPORT</td>\n",
              "      <td>3</td>\n",
              "      <td>TUE00394</td>\n",
              "      <td>TUB INOX 5/16\"ØX300MM 5300W 220V \"M\" ESP</td>\n",
              "      <td>2182.35</td>\n",
              "      <td>0.00</td>\n",
              "      <td>596.55</td>\n",
              "      <td>6547.05</td>\n",
              "      <td>1789.64</td>\n",
              "      <td>1585.80</td>\n",
              "      <td>4757.41</td>\n",
              "    </tr>\n",
              "    <tr>\n",
              "      <th>1424</th>\n",
              "      <td>F39837</td>\n",
              "      <td>2022-12-23</td>\n",
              "      <td>LETICIA RAMIREZ HERNANDEZ</td>\n",
              "      <td>REVUELTA MONTECARLO</td>\n",
              "      <td>1</td>\n",
              "      <td>TUA00470</td>\n",
              "      <td>TUB INOX 1/2\"ØX500MM 10KW 220V 2 1/2\"NPT</td>\n",
              "      <td>5909.84</td>\n",
              "      <td>1884.35</td>\n",
              "      <td>1884.35</td>\n",
              "      <td>5909.84</td>\n",
              "      <td>1884.35</td>\n",
              "      <td>4025.49</td>\n",
              "      <td>4025.49</td>\n",
              "    </tr>\n",
              "    <tr>\n",
              "      <th>1425</th>\n",
              "      <td>F39838</td>\n",
              "      <td>2022-12-23</td>\n",
              "      <td>AARON NUÑO CORDOVA</td>\n",
              "      <td>CPEG SOLUTIONS</td>\n",
              "      <td>10</td>\n",
              "      <td>RB00007</td>\n",
              "      <td>FAB  BOBINA DSD1 6 COLOCAR B/NUEVA 488V</td>\n",
              "      <td>1406.00</td>\n",
              "      <td>0.00</td>\n",
              "      <td>80.66</td>\n",
              "      <td>14060.00</td>\n",
              "      <td>806.55</td>\n",
              "      <td>1325.34</td>\n",
              "      <td>13253.45</td>\n",
              "    </tr>\n",
              "  </tbody>\n",
              "</table>\n",
              "<p>1426 rows × 14 columns</p>\n",
              "</div>\n",
              "      <button class=\"colab-df-convert\" onclick=\"convertToInteractive('df-bcbe645a-bc5d-46af-8fb5-9fe52ba3538a')\"\n",
              "              title=\"Convert this dataframe to an interactive table.\"\n",
              "              style=\"display:none;\">\n",
              "        \n",
              "  <svg xmlns=\"http://www.w3.org/2000/svg\" height=\"24px\"viewBox=\"0 0 24 24\"\n",
              "       width=\"24px\">\n",
              "    <path d=\"M0 0h24v24H0V0z\" fill=\"none\"/>\n",
              "    <path d=\"M18.56 5.44l.94 2.06.94-2.06 2.06-.94-2.06-.94-.94-2.06-.94 2.06-2.06.94zm-11 1L8.5 8.5l.94-2.06 2.06-.94-2.06-.94L8.5 2.5l-.94 2.06-2.06.94zm10 10l.94 2.06.94-2.06 2.06-.94-2.06-.94-.94-2.06-.94 2.06-2.06.94z\"/><path d=\"M17.41 7.96l-1.37-1.37c-.4-.4-.92-.59-1.43-.59-.52 0-1.04.2-1.43.59L10.3 9.45l-7.72 7.72c-.78.78-.78 2.05 0 2.83L4 21.41c.39.39.9.59 1.41.59.51 0 1.02-.2 1.41-.59l7.78-7.78 2.81-2.81c.8-.78.8-2.07 0-2.86zM5.41 20L4 18.59l7.72-7.72 1.47 1.35L5.41 20z\"/>\n",
              "  </svg>\n",
              "      </button>\n",
              "      \n",
              "  <style>\n",
              "    .colab-df-container {\n",
              "      display:flex;\n",
              "      flex-wrap:wrap;\n",
              "      gap: 12px;\n",
              "    }\n",
              "\n",
              "    .colab-df-convert {\n",
              "      background-color: #E8F0FE;\n",
              "      border: none;\n",
              "      border-radius: 50%;\n",
              "      cursor: pointer;\n",
              "      display: none;\n",
              "      fill: #1967D2;\n",
              "      height: 32px;\n",
              "      padding: 0 0 0 0;\n",
              "      width: 32px;\n",
              "    }\n",
              "\n",
              "    .colab-df-convert:hover {\n",
              "      background-color: #E2EBFA;\n",
              "      box-shadow: 0px 1px 2px rgba(60, 64, 67, 0.3), 0px 1px 3px 1px rgba(60, 64, 67, 0.15);\n",
              "      fill: #174EA6;\n",
              "    }\n",
              "\n",
              "    [theme=dark] .colab-df-convert {\n",
              "      background-color: #3B4455;\n",
              "      fill: #D2E3FC;\n",
              "    }\n",
              "\n",
              "    [theme=dark] .colab-df-convert:hover {\n",
              "      background-color: #434B5C;\n",
              "      box-shadow: 0px 1px 3px 1px rgba(0, 0, 0, 0.15);\n",
              "      filter: drop-shadow(0px 1px 2px rgba(0, 0, 0, 0.3));\n",
              "      fill: #FFFFFF;\n",
              "    }\n",
              "  </style>\n",
              "\n",
              "      <script>\n",
              "        const buttonEl =\n",
              "          document.querySelector('#df-bcbe645a-bc5d-46af-8fb5-9fe52ba3538a button.colab-df-convert');\n",
              "        buttonEl.style.display =\n",
              "          google.colab.kernel.accessAllowed ? 'block' : 'none';\n",
              "\n",
              "        async function convertToInteractive(key) {\n",
              "          const element = document.querySelector('#df-bcbe645a-bc5d-46af-8fb5-9fe52ba3538a');\n",
              "          const dataTable =\n",
              "            await google.colab.kernel.invokeFunction('convertToInteractive',\n",
              "                                                     [key], {});\n",
              "          if (!dataTable) return;\n",
              "\n",
              "          const docLinkHtml = 'Like what you see? Visit the ' +\n",
              "            '<a target=\"_blank\" href=https://colab.research.google.com/notebooks/data_table.ipynb>data table notebook</a>'\n",
              "            + ' to learn more about interactive tables.';\n",
              "          element.innerHTML = '';\n",
              "          dataTable['output_type'] = 'display_data';\n",
              "          await google.colab.output.renderOutput(dataTable, element);\n",
              "          const docLink = document.createElement('div');\n",
              "          docLink.innerHTML = docLinkHtml;\n",
              "          element.appendChild(docLink);\n",
              "        }\n",
              "      </script>\n",
              "    </div>\n",
              "  </div>\n",
              "  "
            ]
          },
          "metadata": {},
          "execution_count": 29
        }
      ]
    },
    {
      "cell_type": "code",
      "source": [
        "# identificamos columnas con valores nulos\n",
        "valores_nulos=df.isnull().sum()\n",
        "valores_nulos"
      ],
      "metadata": {
        "id": "d47Vqcq1S02h",
        "colab": {
          "base_uri": "https://localhost:8080/"
        },
        "outputId": "c4003617-68fb-4217-b223-763ef920e736"
      },
      "execution_count": null,
      "outputs": [
        {
          "output_type": "execute_result",
          "data": {
            "text/plain": [
              "CVE_DOC                      0\n",
              "FECHA_DOC                    0\n",
              "NOMBRE_VENDEDOR              2\n",
              "NOMBRE_CLIENTE               0\n",
              "CANT                         0\n",
              "CVE_ART                      0\n",
              "DESCR                        0\n",
              "PRECIO_UNITARIO              0\n",
              "COSTO_UNITARIO               0\n",
              "COSTO_UNITARIO_CALCULADO     0\n",
              "SUBTOTAL_PARTIDA             0\n",
              "COSTO_TOTAL_CALCULADO        0\n",
              "MARGEN_UNITARIO_CALCULADO    0\n",
              "MARGEN_TOTAL_CALCULADO       0\n",
              "dtype: int64"
            ]
          },
          "metadata": {},
          "execution_count": 30
        }
      ]
    },
    {
      "cell_type": "code",
      "source": [
        "# nulos totales en el archivo\n",
        "valores_nulos=df.isnull().sum().sum()\n",
        "valores_nulos"
      ],
      "metadata": {
        "id": "vrBTjQX3TAe4",
        "colab": {
          "base_uri": "https://localhost:8080/"
        },
        "outputId": "6b472c6b-87ef-4976-90fc-2d4a5dd25689"
      },
      "execution_count": null,
      "outputs": [
        {
          "output_type": "execute_result",
          "data": {
            "text/plain": [
              "2"
            ]
          },
          "metadata": {},
          "execution_count": 31
        }
      ]
    },
    {
      "cell_type": "code",
      "source": [
        "# copia del archivo\n",
        "data=df.copy()"
      ],
      "metadata": {
        "id": "mslISjDyTIKb"
      },
      "execution_count": null,
      "outputs": []
    },
    {
      "cell_type": "code",
      "source": [
        "data[\"NOMBRE_VENDEDOR\"] =data[\"NOMBRE_VENDEDOR\"].fillna(\"NO EXISTE\") "
      ],
      "metadata": {
        "id": "_A6bbb07TKtO"
      },
      "execution_count": null,
      "outputs": []
    },
    {
      "cell_type": "code",
      "source": [
        "# ya no hay nulos en la columna\n",
        "valores_nulos=data.isnull().sum()\n",
        "valores_nulos"
      ],
      "metadata": {
        "id": "_pfpBfpITyjH",
        "colab": {
          "base_uri": "https://localhost:8080/"
        },
        "outputId": "b32de59b-9bbc-4d37-f4dd-294b4423a824"
      },
      "execution_count": null,
      "outputs": [
        {
          "output_type": "execute_result",
          "data": {
            "text/plain": [
              "CVE_DOC                      0\n",
              "FECHA_DOC                    0\n",
              "NOMBRE_VENDEDOR              0\n",
              "NOMBRE_CLIENTE               0\n",
              "CANT                         0\n",
              "CVE_ART                      0\n",
              "DESCR                        0\n",
              "PRECIO_UNITARIO              0\n",
              "COSTO_UNITARIO               0\n",
              "COSTO_UNITARIO_CALCULADO     0\n",
              "SUBTOTAL_PARTIDA             0\n",
              "COSTO_TOTAL_CALCULADO        0\n",
              "MARGEN_UNITARIO_CALCULADO    0\n",
              "MARGEN_TOTAL_CALCULADO       0\n",
              "dtype: int64"
            ]
          },
          "metadata": {},
          "execution_count": 34
        }
      ]
    },
    {
      "cell_type": "code",
      "source": [
        "#Convertir DataFrame a CSV\n",
        "data.to_csv(\"Detalle precios y productos fabricados 2022_SIN NULOS.csv\")"
      ],
      "metadata": {
        "id": "ahFsKNU5UDA4"
      },
      "execution_count": null,
      "outputs": []
    },
    {
      "cell_type": "code",
      "source": [
        "from google.colab import files  \n",
        "files.download(\"Detalle precios y productos fabricados 2022_SIN NULOS.csv\")   "
      ],
      "metadata": {
        "id": "pulSkz2XUErH",
        "colab": {
          "base_uri": "https://localhost:8080/",
          "height": 17
        },
        "outputId": "b94fbd00-3180-4a94-8ad8-802b21d03077"
      },
      "execution_count": null,
      "outputs": [
        {
          "output_type": "display_data",
          "data": {
            "text/plain": [
              "<IPython.core.display.Javascript object>"
            ],
            "application/javascript": [
              "\n",
              "    async function download(id, filename, size) {\n",
              "      if (!google.colab.kernel.accessAllowed) {\n",
              "        return;\n",
              "      }\n",
              "      const div = document.createElement('div');\n",
              "      const label = document.createElement('label');\n",
              "      label.textContent = `Downloading \"${filename}\": `;\n",
              "      div.appendChild(label);\n",
              "      const progress = document.createElement('progress');\n",
              "      progress.max = size;\n",
              "      div.appendChild(progress);\n",
              "      document.body.appendChild(div);\n",
              "\n",
              "      const buffers = [];\n",
              "      let downloaded = 0;\n",
              "\n",
              "      const channel = await google.colab.kernel.comms.open(id);\n",
              "      // Send a message to notify the kernel that we're ready.\n",
              "      channel.send({})\n",
              "\n",
              "      for await (const message of channel.messages) {\n",
              "        // Send a message to notify the kernel that we're ready.\n",
              "        channel.send({})\n",
              "        if (message.buffers) {\n",
              "          for (const buffer of message.buffers) {\n",
              "            buffers.push(buffer);\n",
              "            downloaded += buffer.byteLength;\n",
              "            progress.value = downloaded;\n",
              "          }\n",
              "        }\n",
              "      }\n",
              "      const blob = new Blob(buffers, {type: 'application/binary'});\n",
              "      const a = document.createElement('a');\n",
              "      a.href = window.URL.createObjectURL(blob);\n",
              "      a.download = filename;\n",
              "      div.appendChild(a);\n",
              "      a.click();\n",
              "      div.remove();\n",
              "    }\n",
              "  "
            ]
          },
          "metadata": {}
        },
        {
          "output_type": "display_data",
          "data": {
            "text/plain": [
              "<IPython.core.display.Javascript object>"
            ],
            "application/javascript": [
              "download(\"download_aefd1ee3-e79c-4da1-923b-8556ea0d9180\", \"Detalle precios y productos fabricados 2022_SIN NULOS.csv\", 243394)"
            ]
          },
          "metadata": {}
        }
      ]
    }
  ]
}